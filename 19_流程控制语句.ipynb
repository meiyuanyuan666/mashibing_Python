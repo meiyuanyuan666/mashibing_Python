{
 "cells": [
  {
   "cell_type": "markdown",
   "metadata": {},
   "source": [
    "# 1. break语句"
   ]
  },
  {
   "cell_type": "code",
   "execution_count": 1,
   "metadata": {},
   "outputs": [
    {
     "name": "stdout",
     "output_type": "stream",
     "text": [
      "请输入密码：8888\n",
      "密码正确\n"
     ]
    }
   ],
   "source": [
    "# 从键盘区录入密码，最多录入三次，如果正确就结束循环\n",
    "for item in range(3):\n",
    "    pwd = input('请输入密码：')\n",
    "    if pwd == '8888':\n",
    "        print('密码正确')\n",
    "        break\n",
    "    else:\n",
    "        print('密码不正确')"
   ]
  },
  {
   "cell_type": "code",
   "execution_count": 2,
   "metadata": {},
   "outputs": [
    {
     "name": "stdout",
     "output_type": "stream",
     "text": [
      "请输入密码：9531\n",
      "密码不正确\n",
      "请输入密码：8888\n",
      "密码正确\n"
     ]
    }
   ],
   "source": [
    "# while循环实现\n",
    "a = 0\n",
    "while a < 3:\n",
    "    # 条件执行体\n",
    "    pwd = input('请输入密码：')\n",
    "    if pwd == '8888':\n",
    "        print('密码正确')\n",
    "        break\n",
    "    else:\n",
    "        print('密码不正确')\n",
    "    # 改变变量\n",
    "    a += 1"
   ]
  },
  {
   "cell_type": "markdown",
   "metadata": {},
   "source": [
    "# 2. continue语句"
   ]
  },
  {
   "cell_type": "code",
   "execution_count": 3,
   "metadata": {},
   "outputs": [
    {
     "name": "stdout",
     "output_type": "stream",
     "text": [
      "5\n",
      "10\n",
      "15\n",
      "20\n",
      "25\n",
      "30\n",
      "35\n",
      "40\n",
      "45\n",
      "50\n"
     ]
    }
   ],
   "source": [
    "# continue: 结束当前循环，进入下一循环\n",
    "# 要求：输出1到50之间所有5的倍数（和5的余数为0）\n",
    "for item in range(1, 51):\n",
    "    if item % 5 == 0:\n",
    "        print(item)"
   ]
  },
  {
   "cell_type": "code",
   "execution_count": 4,
   "metadata": {},
   "outputs": [
    {
     "name": "stdout",
     "output_type": "stream",
     "text": [
      "5\n",
      "10\n",
      "15\n",
      "20\n",
      "25\n",
      "30\n",
      "35\n",
      "40\n",
      "45\n",
      "50\n"
     ]
    }
   ],
   "source": [
    "# 使用continue\n",
    "for item in range(1, 51):\n",
    "    if item % 5 != 0:\n",
    "        continue\n",
    "    else:\n",
    "        print(item)"
   ]
  }
 ],
 "metadata": {
  "kernelspec": {
   "display_name": "Python 3.6.3",
   "language": "python",
   "name": "python3.6.3"
  },
  "language_info": {
   "codemirror_mode": {
    "name": "ipython",
    "version": 3
   },
   "file_extension": ".py",
   "mimetype": "text/x-python",
   "name": "python",
   "nbconvert_exporter": "python",
   "pygments_lexer": "ipython3",
   "version": "3.6.3"
  },
  "toc": {
   "base_numbering": 1,
   "nav_menu": {},
   "number_sections": false,
   "sideBar": true,
   "skip_h1_title": false,
   "title_cell": "Table of Contents",
   "title_sidebar": "Contents",
   "toc_cell": false,
   "toc_position": {},
   "toc_section_display": true,
   "toc_window_display": true
  }
 },
 "nbformat": 4,
 "nbformat_minor": 4
}
