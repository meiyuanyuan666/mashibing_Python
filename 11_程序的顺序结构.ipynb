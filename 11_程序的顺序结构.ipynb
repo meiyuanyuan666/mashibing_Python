{
 "cells": [
  {
   "cell_type": "markdown",
   "metadata": {},
   "source": [
    "# 1. 程序的顺序结构"
   ]
  },
  {
   "cell_type": "code",
   "execution_count": 1,
   "metadata": {},
   "outputs": [
    {
     "name": "stdout",
     "output_type": "stream",
     "text": [
      "-----程序开始------\n",
      "1.把冰箱门打开\n",
      "2.把大象放冰箱里\n",
      "3.把冰箱门关上\n",
      "-----程序结束------\n"
     ]
    }
   ],
   "source": [
    "# 把大象装在冰箱一共分几步\n",
    "print('-----程序开始------')\n",
    "print('1.把冰箱门打开')\n",
    "print('2.把大象放冰箱里')\n",
    "print('3.把冰箱门关上')\n",
    "print('-----程序结束------')\n",
    "\n",
    "# 学会打断点，从开始到结束，小虫子，按从上到下按钮"
   ]
  }
 ],
 "metadata": {
  "kernelspec": {
   "display_name": "Python 3.6.3",
   "language": "python",
   "name": "python3.6.3"
  },
  "language_info": {
   "codemirror_mode": {
    "name": "ipython",
    "version": 3
   },
   "file_extension": ".py",
   "mimetype": "text/x-python",
   "name": "python",
   "nbconvert_exporter": "python",
   "pygments_lexer": "ipython3",
   "version": "3.6.3"
  },
  "toc": {
   "base_numbering": 1,
   "nav_menu": {},
   "number_sections": false,
   "sideBar": true,
   "skip_h1_title": false,
   "title_cell": "Table of Contents",
   "title_sidebar": "Contents",
   "toc_cell": false,
   "toc_position": {},
   "toc_section_display": true,
   "toc_window_display": true
  }
 },
 "nbformat": 4,
 "nbformat_minor": 4
}
